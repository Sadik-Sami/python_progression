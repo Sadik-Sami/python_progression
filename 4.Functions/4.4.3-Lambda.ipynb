{
 "cells": [
  {
   "cell_type": "markdown",
   "id": "a29860da",
   "metadata": {},
   "source": [
    "##### Lambda Functions in Python\n",
    "Lambda functions are small anonymous functions defined using the **lambda** keyword. They can have any number of arguments but only one expression. They are commonly used for short operations or as arguments to higher-order functions.\n",
    "\n"
   ]
  },
  {
   "cell_type": "code",
   "execution_count": null,
   "id": "53fb5c17",
   "metadata": {},
   "outputs": [],
   "source": [
    "# Syntax\n",
    "# lambda arguments: expression\n"
   ]
  },
  {
   "cell_type": "code",
   "execution_count": 1,
   "id": "5b377887",
   "metadata": {},
   "outputs": [],
   "source": [
    "def addition(a, b):\n",
    "    return a + b"
   ]
  },
  {
   "cell_type": "code",
   "execution_count": 2,
   "id": "6b7860d1",
   "metadata": {},
   "outputs": [
    {
     "data": {
      "text/plain": [
       "5"
      ]
     },
     "execution_count": 2,
     "metadata": {},
     "output_type": "execute_result"
    }
   ],
   "source": [
    "addition(2,3)"
   ]
  },
  {
   "cell_type": "code",
   "execution_count": 3,
   "id": "66ec2bb9",
   "metadata": {},
   "outputs": [
    {
     "data": {
      "text/plain": [
       "function"
      ]
     },
     "execution_count": 3,
     "metadata": {},
     "output_type": "execute_result"
    }
   ],
   "source": [
    "addition = lambda a, b: a + b\n",
    "type(addition)"
   ]
  },
  {
   "cell_type": "code",
   "execution_count": 4,
   "id": "63e1e6db",
   "metadata": {},
   "outputs": [
    {
     "data": {
      "text/plain": [
       "6"
      ]
     },
     "execution_count": 4,
     "metadata": {},
     "output_type": "execute_result"
    }
   ],
   "source": [
    "addition(2, 4)"
   ]
  },
  {
   "cell_type": "code",
   "execution_count": 7,
   "id": "e4079006",
   "metadata": {},
   "outputs": [],
   "source": [
    "def is_even(num):\n",
    "    if num % 2 == 0:\n",
    "        return True\n",
    "    else:\n",
    "        return False"
   ]
  },
  {
   "cell_type": "code",
   "execution_count": 10,
   "id": "f6d6ef82",
   "metadata": {},
   "outputs": [
    {
     "data": {
      "text/plain": [
       "True"
      ]
     },
     "execution_count": 10,
     "metadata": {},
     "output_type": "execute_result"
    }
   ],
   "source": [
    "is_even(3)\n",
    "is_even(2)"
   ]
  },
  {
   "cell_type": "code",
   "execution_count": 11,
   "id": "8016607f",
   "metadata": {},
   "outputs": [
    {
     "data": {
      "text/plain": [
       "True"
      ]
     },
     "execution_count": 11,
     "metadata": {},
     "output_type": "execute_result"
    }
   ],
   "source": [
    "is_even = lambda num: num % 2 == 0\n",
    "is_even(2)"
   ]
  },
  {
   "cell_type": "code",
   "execution_count": 12,
   "id": "79197e1f",
   "metadata": {},
   "outputs": [],
   "source": [
    "def addition(x, y, z):\n",
    "  return x + y + z"
   ]
  },
  {
   "cell_type": "code",
   "execution_count": 13,
   "id": "4fde7d77",
   "metadata": {},
   "outputs": [
    {
     "data": {
      "text/plain": [
       "39"
      ]
     },
     "execution_count": 13,
     "metadata": {},
     "output_type": "execute_result"
    }
   ],
   "source": [
    "addition(12,13,14)"
   ]
  },
  {
   "cell_type": "code",
   "execution_count": 14,
   "id": "fc5f35a8",
   "metadata": {},
   "outputs": [],
   "source": [
    "addition = lambda x, y, z: x + y + z"
   ]
  },
  {
   "cell_type": "code",
   "execution_count": 15,
   "id": "7f0461b8",
   "metadata": {},
   "outputs": [
    {
     "data": {
      "text/plain": [
       "39"
      ]
     },
     "execution_count": 15,
     "metadata": {},
     "output_type": "execute_result"
    }
   ],
   "source": [
    "addition(12,13,14)"
   ]
  },
  {
   "cell_type": "code",
   "execution_count": 19,
   "id": "2e8ec177",
   "metadata": {},
   "outputs": [
    {
     "name": "stdout",
     "output_type": "stream",
     "text": [
      "[1, 4, 9, 16, 25, 36]\n"
     ]
    },
    {
     "data": {
      "text/plain": [
       "4"
      ]
     },
     "execution_count": 19,
     "metadata": {},
     "output_type": "execute_result"
    }
   ],
   "source": [
    "# map() - applies a function to all items in a list\n",
    "numbers = [1, 2, 3, 4, 5, 6]\n",
    "squares = list(x ** 2 for x in numbers)\n",
    "print(squares)\n",
    "\n",
    "def square(number):\n",
    "    return number**2\n",
    "  \n",
    "square(2)"
   ]
  },
  {
   "cell_type": "code",
   "execution_count": 17,
   "id": "d0d9a811",
   "metadata": {},
   "outputs": [
    {
     "data": {
      "text/plain": [
       "[1, 4, 9, 16, 25, 36]"
      ]
     },
     "execution_count": 17,
     "metadata": {},
     "output_type": "execute_result"
    }
   ],
   "source": [
    "list(map(lambda x: x**2, numbers))"
   ]
  },
  {
   "cell_type": "code",
   "execution_count": null,
   "id": "7ab796a7",
   "metadata": {},
   "outputs": [],
   "source": []
  }
 ],
 "metadata": {
  "kernelspec": {
   "display_name": "Python 3",
   "language": "python",
   "name": "python3"
  },
  "language_info": {
   "codemirror_mode": {
    "name": "ipython",
    "version": 3
   },
   "file_extension": ".py",
   "mimetype": "text/x-python",
   "name": "python",
   "nbconvert_exporter": "python",
   "pygments_lexer": "ipython3",
   "version": "3.13.5"
  }
 },
 "nbformat": 4,
 "nbformat_minor": 5
}
