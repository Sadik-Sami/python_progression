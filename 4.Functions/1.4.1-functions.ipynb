{
 "cells": [
  {
   "cell_type": "markdown",
   "id": "538fdab4",
   "metadata": {},
   "source": [
    "##### Introduction to Functions\n",
    "\n",
    "Definition:\n",
    "\n",
    "A function is a block of code that performs a specific task.\n",
    "Functions help in organizing code, reusing code, and improving readability.\n"
   ]
  },
  {
   "cell_type": "code",
   "execution_count": 1,
   "id": "b45b9b74",
   "metadata": {},
   "outputs": [],
   "source": [
    "# Syntax\n",
    "def function_name(parameter):\n",
    "  \"\"\"Docstring\"\"\"\n",
    "  # function body\n",
    "  return #expression"
   ]
  },
  {
   "cell_type": "code",
   "execution_count": null,
   "id": "3514ddbb",
   "metadata": {},
   "outputs": [],
   "source": [
    "# why functions?\n",
    "num = 24\n",
    "if num%2 == 0:\n",
    "  print('even')\n",
    "else:\n",
    "  print(\"the number is odd\")"
   ]
  },
  {
   "cell_type": "code",
   "execution_count": 20,
   "id": "6a0f012f",
   "metadata": {},
   "outputs": [],
   "source": [
    "def even_or_odd(num):\n",
    "  \"\"\"This function finds even or odd\"\"\"\n",
    "  if(not num or type(num) is not int):\n",
    "    print('No number provided')\n",
    "    return\n",
    "  if(num % 2 == 0):\n",
    "    print(f'{num} is even')\n",
    "  else:\n",
    "    print(f'{num} is odd')"
   ]
  },
  {
   "cell_type": "code",
   "execution_count": 21,
   "id": "538cc9a1",
   "metadata": {},
   "outputs": [
    {
     "name": "stdout",
     "output_type": "stream",
     "text": [
      "No number provided\n",
      "4 is even\n"
     ]
    }
   ],
   "source": [
    "even_or_odd('a')\n",
    "even_or_odd(4)"
   ]
  },
  {
   "cell_type": "code",
   "execution_count": 22,
   "id": "522e0213",
   "metadata": {},
   "outputs": [],
   "source": [
    "# Function with multiple parameters\n",
    "def add(a, b):\n",
    "  c = a + b\n",
    "  return c"
   ]
  },
  {
   "cell_type": "code",
   "execution_count": 24,
   "id": "96917384",
   "metadata": {},
   "outputs": [
    {
     "name": "stdout",
     "output_type": "stream",
     "text": [
      "5\n"
     ]
    }
   ],
   "source": [
    "sum = add(2,3)\n",
    "print(sum)"
   ]
  },
  {
   "cell_type": "code",
   "execution_count": 27,
   "id": "921a110c",
   "metadata": {},
   "outputs": [],
   "source": [
    "def greet(name):\n",
    "  print(f'Hello {name}, welcome to python')\n",
    "  return"
   ]
  },
  {
   "cell_type": "code",
   "execution_count": 28,
   "id": "ee01e79c",
   "metadata": {},
   "outputs": [
    {
     "name": "stdout",
     "output_type": "stream",
     "text": [
      "Hello sami, welcome to python\n"
     ]
    }
   ],
   "source": [
    "greet('sami')"
   ]
  },
  {
   "cell_type": "code",
   "execution_count": null,
   "id": "c46d024f",
   "metadata": {},
   "outputs": [],
   "source": [
    "def greet(name = 'Guest'):\n",
    "  print(f'Hello {name}, welcome to python')\n",
    "  return"
   ]
  },
  {
   "cell_type": "code",
   "execution_count": 30,
   "id": "a0a6a28c",
   "metadata": {},
   "outputs": [
    {
     "name": "stdout",
     "output_type": "stream",
     "text": [
      "Hello Guest, welcome to python\n"
     ]
    }
   ],
   "source": [
    "greet()"
   ]
  },
  {
   "cell_type": "code",
   "execution_count": null,
   "id": "a3e41492",
   "metadata": {},
   "outputs": [],
   "source": [
    "# Variable Length Arguments\n",
    "# Positional and Keywords arguments\n",
    "# def print_numbers(num1, num2, num3, num4, num5): # we do not use this\n",
    "def print_numbers(*args):\n",
    "  for number in args:\n",
    "    print(number)\n",
    "  return"
   ]
  },
  {
   "cell_type": "code",
   "execution_count": 8,
   "id": "225b6838",
   "metadata": {},
   "outputs": [
    {
     "name": "stdout",
     "output_type": "stream",
     "text": [
      "1\n",
      "2\n",
      "3\n",
      "4\n",
      "5\n",
      "6\n",
      "7\n",
      "8\n",
      "9\n"
     ]
    }
   ],
   "source": [
    "print_numbers(1,2,3,4,5,6,7,8,9)"
   ]
  },
  {
   "cell_type": "code",
   "execution_count": null,
   "id": "98b90b4c",
   "metadata": {},
   "outputs": [],
   "source": [
    "# Positional Arguments\n",
    "def print_numbers(*args):\n",
    "  for number in args:\n",
    "    print(number)\n",
    "  return"
   ]
  },
  {
   "cell_type": "code",
   "execution_count": 10,
   "id": "c426442e",
   "metadata": {},
   "outputs": [],
   "source": [
    "# Keyword Arguments\n",
    "# All the keys/parameters will be in the form of key value pairs\n",
    "def print_details(**kwargs):\n",
    "  for key, value in kwargs.items():\n",
    "    print(f'{key}: {value}')\n",
    "  return"
   ]
  },
  {
   "cell_type": "code",
   "execution_count": 11,
   "id": "8fd1b228",
   "metadata": {},
   "outputs": [
    {
     "name": "stdout",
     "output_type": "stream",
     "text": [
      "name: Sadik\n",
      "age: 24\n",
      "country: Bangladesh\n"
     ]
    }
   ],
   "source": [
    "print_details(name = 'Sadik', age = 24, country = 'Bangladesh')"
   ]
  },
  {
   "cell_type": "code",
   "execution_count": 16,
   "id": "84b15c19",
   "metadata": {},
   "outputs": [],
   "source": [
    "def print_details(*args, **kwargs):\n",
    "  for value in args:\n",
    "    print(f'Positional argument: {value}')\n",
    "  for key, value in kwargs.items():\n",
    "    print(f'{key}: {value}')\n",
    "  return"
   ]
  },
  {
   "cell_type": "code",
   "execution_count": 17,
   "id": "75cb744c",
   "metadata": {},
   "outputs": [
    {
     "name": "stdout",
     "output_type": "stream",
     "text": [
      "Positional argument: 4\n",
      "Positional argument: Abdul\n",
      "name: Sadik\n",
      "age: 24\n",
      "country: Bangladesh\n"
     ]
    }
   ],
   "source": [
    "print_details(4, 'Abdul',name = 'Sadik', age = 24, country = 'Bangladesh')"
   ]
  },
  {
   "cell_type": "code",
   "execution_count": 18,
   "id": "8ea02223",
   "metadata": {},
   "outputs": [],
   "source": [
    "# Return Statements\n",
    "def multiply(a, b):\n",
    "  return a * b"
   ]
  },
  {
   "cell_type": "code",
   "execution_count": 19,
   "id": "e93419fb",
   "metadata": {},
   "outputs": [
    {
     "data": {
      "text/plain": [
       "6"
      ]
     },
     "execution_count": 19,
     "metadata": {},
     "output_type": "execute_result"
    }
   ],
   "source": [
    "multiply(2,3)"
   ]
  },
  {
   "cell_type": "code",
   "execution_count": 20,
   "id": "c9e1ce58",
   "metadata": {},
   "outputs": [],
   "source": [
    "# Return multiple parameters\n",
    "def multiply(a, b):\n",
    "  return a*b, a"
   ]
  },
  {
   "cell_type": "code",
   "execution_count": 21,
   "id": "bd9187c3",
   "metadata": {},
   "outputs": [
    {
     "data": {
      "text/plain": [
       "(6, 2)"
      ]
     },
     "execution_count": 21,
     "metadata": {},
     "output_type": "execute_result"
    }
   ],
   "source": [
    "multiply(2,3)"
   ]
  }
 ],
 "metadata": {
  "kernelspec": {
   "display_name": "Python 3",
   "language": "python",
   "name": "python3"
  },
  "language_info": {
   "codemirror_mode": {
    "name": "ipython",
    "version": 3
   },
   "file_extension": ".py",
   "mimetype": "text/x-python",
   "name": "python",
   "nbconvert_exporter": "python",
   "pygments_lexer": "ipython3",
   "version": "3.13.5"
  }
 },
 "nbformat": 4,
 "nbformat_minor": 5
}
