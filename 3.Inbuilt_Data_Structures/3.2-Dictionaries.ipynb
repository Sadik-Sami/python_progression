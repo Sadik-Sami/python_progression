{
 "cells": [
  {
   "cell_type": "markdown",
   "id": "b2f71c75",
   "metadata": {},
   "source": [
    "##### Introduction to Dictionaries\n",
    "\n",
    "Dictionaries are unordered collections of items. They store data in key-value pairs.\n",
    "Keys must be unique and immutable (e.g., strings, numbers, or tuples), while values can be of any type."
   ]
  },
  {
   "cell_type": "code",
   "execution_count": 1,
   "id": "860458cf",
   "metadata": {},
   "outputs": [
    {
     "name": "stdout",
     "output_type": "stream",
     "text": [
      "<class 'dict'>\n"
     ]
    }
   ],
   "source": [
    "## Creating Dictionaries\n",
    "empty_dict = {}\n",
    "print(type(empty_dict))"
   ]
  },
  {
   "cell_type": "code",
   "execution_count": 2,
   "id": "f622795b",
   "metadata": {},
   "outputs": [
    {
     "data": {
      "text/plain": [
       "{}"
      ]
     },
     "execution_count": 2,
     "metadata": {},
     "output_type": "execute_result"
    }
   ],
   "source": [
    "empty_dict = dict()\n",
    "empty_dict"
   ]
  },
  {
   "cell_type": "code",
   "execution_count": 3,
   "id": "5be8629f",
   "metadata": {},
   "outputs": [
    {
     "name": "stdout",
     "output_type": "stream",
     "text": [
      "{'name': 'Sadik', 'age': 24, 'grade': 24}\n",
      "<class 'dict'>\n"
     ]
    }
   ],
   "source": [
    "student = {'name':'Sadik', 'age':24, 'grade':24}\n",
    "print(student)\n",
    "print(type(student))"
   ]
  },
  {
   "cell_type": "code",
   "execution_count": 4,
   "id": "eb089d17",
   "metadata": {},
   "outputs": [
    {
     "name": "stdout",
     "output_type": "stream",
     "text": [
      "{'name': 'Al Sami', 'age': 24}\n"
     ]
    }
   ],
   "source": [
    "## Error (Single key is always used)\n",
    "student = {'name': 'Sadik', 'age':24, 'name':'Al Sami'}\n",
    "print(student)"
   ]
  },
  {
   "cell_type": "code",
   "execution_count": 5,
   "id": "879b8a86",
   "metadata": {},
   "outputs": [
    {
     "name": "stdout",
     "output_type": "stream",
     "text": [
      "{'name': 'Sadik', 'age': 24, 'grade': 'A'}\n"
     ]
    }
   ],
   "source": [
    "## accessing dictionary elements\n",
    "student = {'name':'Sadik', 'age':24, 'grade':'A'}\n",
    "print(student)"
   ]
  },
  {
   "cell_type": "code",
   "execution_count": 6,
   "id": "8b87c9de",
   "metadata": {},
   "outputs": [
    {
     "name": "stdout",
     "output_type": "stream",
     "text": [
      "Sadik 24 A\n",
      "Sadik 24 A\n",
      "None\n",
      "not_available\n"
     ]
    }
   ],
   "source": [
    "## accessing dictionary elements\n",
    "print(student['name'], student['age'], student['grade'])\n",
    "\n",
    "## accessing using get() method\n",
    "print(student.get('name'), student.get('age'), student.get('grade'))\n",
    "\n",
    "## handling non existing key values\n",
    "print(student.get('last_name'))\n",
    "print(student.get('last_name', 'not_available')) #if the value is not present we spit out the other value\n"
   ]
  },
  {
   "cell_type": "code",
   "execution_count": 7,
   "id": "3b4fc4fc",
   "metadata": {},
   "outputs": [
    {
     "name": "stdout",
     "output_type": "stream",
     "text": [
      "{'name': 'Sadik', 'age': 24, 'grade': 'A'}\n"
     ]
    }
   ],
   "source": [
    "## Modifying Dictionary Elements\n",
    "## Dictionaries are mutable, so you can add, update or delete elements\n",
    "print(student)"
   ]
  },
  {
   "cell_type": "code",
   "execution_count": null,
   "id": "62e6686d",
   "metadata": {},
   "outputs": [
    {
     "name": "stdout",
     "output_type": "stream",
     "text": [
      "{'name': 'Sadik', 'age': 18, 'grade': 'A'}\n",
      "{'name': 'Sadik', 'age': 18, 'grade': 'A', 'address': 'Bangladesh'}\n"
     ]
    }
   ],
   "source": [
    "# Update the value for the key\n",
    "student['age'] = 18\n",
    "print(student)\n",
    "# Added a new value\n",
    "student['address'] = 'Bangladesh'\n",
    "print(student)"
   ]
  },
  {
   "cell_type": "code",
   "execution_count": 11,
   "id": "163e9fa0",
   "metadata": {},
   "outputs": [
    {
     "name": "stdout",
     "output_type": "stream",
     "text": [
      "{'name': 'Sadik', 'age': 18, 'address': 'Bangladesh'}\n"
     ]
    }
   ],
   "source": [
    "# Deleting a key and value pair\n",
    "del student['grade']\n",
    "print(student)"
   ]
  },
  {
   "cell_type": "code",
   "execution_count": 14,
   "id": "2957b38f",
   "metadata": {},
   "outputs": [
    {
     "name": "stdout",
     "output_type": "stream",
     "text": [
      "dict_keys(['name', 'age', 'address'])\n",
      "dict_values(['Sadik', 18, 'Bangladesh'])\n",
      "dict_items([('name', 'Sadik'), ('age', 18), ('address', 'Bangladesh')])\n"
     ]
    }
   ],
   "source": [
    "# Dictionary methods\n",
    "keys = student.keys() # Get all the keys\n",
    "print(keys)\n",
    "values = student.values() # Get all the values\n",
    "print(values)\n",
    "\n",
    "items = student.items() #Get all key value pairs\n",
    "print(items)"
   ]
  },
  {
   "cell_type": "code",
   "execution_count": null,
   "id": "e4113e9e",
   "metadata": {},
   "outputs": [
    {
     "name": "stdout",
     "output_type": "stream",
     "text": [
      "{'name': 'Sadik', 'age': 18, 'address': 'Bangladesh'}\n"
     ]
    }
   ],
   "source": [
    "student_copy = student\n",
    "print(student)\n",
    "print(student_copy)"
   ]
  },
  {
   "cell_type": "code",
   "execution_count": 16,
   "id": "982f5da5",
   "metadata": {},
   "outputs": [
    {
     "name": "stdout",
     "output_type": "stream",
     "text": [
      "{'name': 'al sami', 'age': 18, 'address': 'Bangladesh'}\n",
      "{'name': 'al sami', 'age': 18, 'address': 'Bangladesh'}\n"
     ]
    }
   ],
   "source": [
    "student['name'] = 'al sami'\n",
    "print(student)\n",
    "print(student_copy)"
   ]
  },
  {
   "cell_type": "code",
   "execution_count": 19,
   "id": "a9fc0cbd",
   "metadata": {},
   "outputs": [
    {
     "name": "stdout",
     "output_type": "stream",
     "text": [
      "{'name': 'al sami', 'age': 18, 'address': 'Bangladesh'}\n",
      "{'name': 'al sami', 'age': 18, 'address': 'Bangladesh'}\n"
     ]
    }
   ],
   "source": [
    "# shallow copy\n",
    "student_copy1 = student.copy()\n",
    "print(student_copy1)\n",
    "print(student)"
   ]
  },
  {
   "cell_type": "code",
   "execution_count": 20,
   "id": "af918efc",
   "metadata": {},
   "outputs": [
    {
     "name": "stdout",
     "output_type": "stream",
     "text": [
      "{'name': 'al sami', 'age': 18, 'address': 'Bangladesh'}\n",
      "{'name': 'Simanto', 'age': 18, 'address': 'Bangladesh'}\n"
     ]
    }
   ],
   "source": [
    "student['name'] = 'Simanto'\n",
    "print(student_copy1)\n",
    "print(student)"
   ]
  },
  {
   "cell_type": "code",
   "execution_count": 25,
   "id": "43bc038b",
   "metadata": {},
   "outputs": [
    {
     "name": "stdout",
     "output_type": "stream",
     "text": [
      "name\n",
      "age\n",
      "address\n"
     ]
    }
   ],
   "source": [
    "# Iterating over dictionaries\n",
    "# loops can be used to iterate over dictionaries, keys, values or items\n",
    "\n",
    "# iterating over keys\n",
    "for key in student.keys():\n",
    "  print(key)"
   ]
  },
  {
   "cell_type": "code",
   "execution_count": 26,
   "id": "fdd1a518",
   "metadata": {},
   "outputs": [
    {
     "name": "stdout",
     "output_type": "stream",
     "text": [
      "Simanto\n",
      "18\n",
      "Bangladesh\n"
     ]
    }
   ],
   "source": [
    "# Iterating over values\n",
    "for value in student.values():\n",
    "  print(value)"
   ]
  },
  {
   "cell_type": "code",
   "execution_count": 27,
   "id": "c5fe0538",
   "metadata": {},
   "outputs": [
    {
     "name": "stdout",
     "output_type": "stream",
     "text": [
      "name: Simanto\n",
      "age: 18\n",
      "address: Bangladesh\n"
     ]
    }
   ],
   "source": [
    "# Iterate over key value pairs\n",
    "for key, value in student.items():\n",
    "  print(f'{key}: {value}')"
   ]
  },
  {
   "cell_type": "code",
   "execution_count": 28,
   "id": "51c52206",
   "metadata": {},
   "outputs": [
    {
     "name": "stdout",
     "output_type": "stream",
     "text": [
      "{'student1': {'name': 'Ahmed', 'age': 32}, 'student2': {'name': 'Mehmed', 'age': 35}, 'student3': {'name': 'Rehman', 'age': 25}, 'student4': {'name': 'Ehsan', 'age': 27}}\n"
     ]
    }
   ],
   "source": [
    "# Nested dictionaries\n",
    "students = {\n",
    "  'student1': {\"name\": 'Ahmed', \"age\": 32},\n",
    "  'student2': {\"name\": 'Mehmed', \"age\": 35},\n",
    "  'student3': {\"name\": 'Rehman', \"age\": 25},\n",
    "  'student4': {\"name\": 'Ehsan', \"age\": 27},\n",
    "}\n",
    "print(students)"
   ]
  },
  {
   "cell_type": "code",
   "execution_count": 31,
   "id": "06bb8802",
   "metadata": {},
   "outputs": [
    {
     "name": "stdout",
     "output_type": "stream",
     "text": [
      "Mehmed\n",
      "35\n"
     ]
    }
   ],
   "source": [
    "# Access nested dictionary elements\n",
    "print(students['student2'][\"name\"])\n",
    "print(students['student2'][\"age\"])"
   ]
  },
  {
   "cell_type": "code",
   "execution_count": 35,
   "id": "fb9ef2a6",
   "metadata": {},
   "outputs": [
    {
     "name": "stdout",
     "output_type": "stream",
     "text": [
      "student1: {'name': 'Ahmed', 'age': 32}\n",
      "name: Ahmed\n",
      "age: 32\n",
      "student2: {'name': 'Mehmed', 'age': 35}\n",
      "name: Mehmed\n",
      "age: 35\n",
      "student3: {'name': 'Rehman', 'age': 25}\n",
      "name: Rehman\n",
      "age: 25\n",
      "student4: {'name': 'Ehsan', 'age': 27}\n",
      "name: Ehsan\n",
      "age: 27\n"
     ]
    }
   ],
   "source": [
    "# Iterating over nested disctionaries\n",
    "for student_id, student_info in students.items():\n",
    "  print(f\"{student_id}: {student_info}\")\n",
    "  for key, value in student_info.items():\n",
    "    print(f'{key}: {value}')"
   ]
  },
  {
   "cell_type": "code",
   "execution_count": 36,
   "id": "b76bf224",
   "metadata": {},
   "outputs": [
    {
     "name": "stdout",
     "output_type": "stream",
     "text": [
      "{0: 0, 1: 1, 2: 4, 3: 9, 4: 16}\n"
     ]
    }
   ],
   "source": [
    "# Dictionary Comprehension\n",
    "squares = {x:x**2 for x in range(5)}\n",
    "print(squares)"
   ]
  },
  {
   "cell_type": "code",
   "execution_count": 37,
   "id": "24739720",
   "metadata": {},
   "outputs": [
    {
     "name": "stdout",
     "output_type": "stream",
     "text": [
      "{0: 0, 2: 4, 4: 16, 6: 36, 8: 64}\n"
     ]
    }
   ],
   "source": [
    "# Condition dictionary comprehension\n",
    "evens = {x:x**2 for x in range(10) if x%2==0}\n",
    "print(evens)"
   ]
  },
  {
   "cell_type": "code",
   "execution_count": null,
   "id": "243a650e",
   "metadata": {},
   "outputs": [
    {
     "name": "stdout",
     "output_type": "stream",
     "text": [
      "{1: 1, 2: 2, 3: 3, 4: 4, 5: 5}\n"
     ]
    }
   ],
   "source": [
    "# Practical Examples\n",
    "# Use a dictionary to count the frequency of elements in a list\n",
    "numbers = [1,2,2,3,3,3,4,4,4,4,5,5,5,5,5]\n",
    "frequency = {}\n",
    "for number in numbers:\n",
    "  if number in frequency:\n",
    "    frequency[number] += 1\n",
    "  else:\n",
    "    frequency[number] = 1\n",
    "print(frequency)"
   ]
  },
  {
   "cell_type": "code",
   "execution_count": 41,
   "id": "d17501cf",
   "metadata": {},
   "outputs": [
    {
     "name": "stdout",
     "output_type": "stream",
     "text": [
      "{'a': 1, 'b': 3, 'c': 4}\n"
     ]
    }
   ],
   "source": [
    "# Merge 2 dictionaries into one\n",
    "dict1 = {'a':1, 'b':2}\n",
    "dict2 = {'b':3, 'c':4}\n",
    "merged_dict = {**dict1, **dict2}\n",
    "print(merged_dict)"
   ]
  },
  {
   "cell_type": "code",
   "execution_count": null,
   "id": "1c73bb5c",
   "metadata": {},
   "outputs": [],
   "source": []
  }
 ],
 "metadata": {
  "kernelspec": {
   "display_name": "Python 3",
   "language": "python",
   "name": "python3"
  },
  "language_info": {
   "codemirror_mode": {
    "name": "ipython",
    "version": 3
   },
   "file_extension": ".py",
   "mimetype": "text/x-python",
   "name": "python",
   "nbconvert_exporter": "python",
   "pygments_lexer": "ipython3",
   "version": "3.13.5"
  }
 },
 "nbformat": 4,
 "nbformat_minor": 5
}
